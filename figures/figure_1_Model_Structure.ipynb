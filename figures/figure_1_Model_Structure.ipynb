{
 "cells": [
  {
   "cell_type": "markdown",
   "metadata": {},
   "source": [
    "# Model Structure"
   ]
  },
  {
   "cell_type": "markdown",
   "metadata": {},
   "source": [
    "## Aarchitecture Schematics"
   ]
  },
  {
   "cell_type": "markdown",
   "metadata": {},
   "source": [
    "<img width=\"900\" src=\"./nn_structure.svg\">\n",
    "<div align=\"center\">\n",
    "    Schematic of the machine learning model structure*\n",
    "</div>\n"
   ]
  },
  {
   "cell_type": "markdown",
   "metadata": {},
   "source": [
    "\n",
    "> **TODO** \n",
    "> - Add tensor dimensions\n",
    "> - Need modification as this graph implies 2D Convolution layers (for image)"
   ]
  },
  {
   "cell_type": "markdown",
   "metadata": {},
   "source": [
    "\\* Online Tool used to generate the graph: http://alexlenail.me/NN-SVG/LeNet.html"
   ]
  },
  {
   "cell_type": "markdown",
   "metadata": {},
   "source": [
    "## Layers Summary"
   ]
  },
  {
   "cell_type": "markdown",
   "metadata": {},
   "source": [
    "<pre>\n",
    "_________________________________________________________________\n",
    "Layer (type)                 Output Shape              Param #   \n",
    "=================================================================\n",
    "Conv1 (Conv1D)               (None, 1991, 128)         5248      \n",
    "_________________________________________________________________\n",
    "spatial_dropout1d_23 (Spatia (None, 1991, 128)         0         \n",
    "_________________________________________________________________\n",
    "max_pooling1d_12 (MaxPooling (None, 9, 128)            0         \n",
    "_________________________________________________________________\n",
    "Conv2 (Conv1D)               (None, 1, 64)             73792     \n",
    "_________________________________________________________________\n",
    "spatial_dropout1d_24 (Spatia (None, 1, 64)             0         \n",
    "_________________________________________________________________\n",
    "Flatten1 (Flatten)           (None, 64)                0         \n",
    "_________________________________________________________________\n",
    "Dense1 (Dense)               (None, 64)                4160      \n",
    "_________________________________________________________________\n",
    "Dense2 (Dense)               (None, 32)                2080      \n",
    "_________________________________________________________________\n",
    "Dense4 (Dense)               (None, 1)                 33        \n",
    "=================================================================\n",
    "Total params: 85,313\n",
    "Trainable params: 85,313\n",
    "Non-trainable params: 0\n",
    "_________________________________________________________________\n",
    "</pre>"
   ]
  },
  {
   "cell_type": "markdown",
   "metadata": {},
   "source": [
    "\\* None is a placeholder for the samples(genes) dimension"
   ]
  },
  {
   "cell_type": "code",
   "execution_count": null,
   "metadata": {},
   "outputs": [],
   "source": []
  }
 ],
 "metadata": {
  "kernelspec": {
   "display_name": "Python 3",
   "language": "python",
   "name": "python3"
  },
  "language_info": {
   "codemirror_mode": {
    "name": "ipython",
    "version": 3
   },
   "file_extension": ".py",
   "mimetype": "text/x-python",
   "name": "python",
   "nbconvert_exporter": "python",
   "pygments_lexer": "ipython3",
   "version": "3.6.4"
  }
 },
 "nbformat": 4,
 "nbformat_minor": 2
}
